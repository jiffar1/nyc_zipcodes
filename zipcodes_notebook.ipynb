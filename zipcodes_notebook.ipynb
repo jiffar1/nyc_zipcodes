{
 "cells": [
  {
   "cell_type": "markdown",
   "metadata": {},
   "source": [
    "# NYC zipcode gathering steps:"
   ]
  },
  {
   "cell_type": "code",
   "execution_count": 1,
   "metadata": {},
   "outputs": [],
   "source": [
    "#Importing pandas and numpy \n",
    "import pandas as pd\n",
    "import numpy as np"
   ]
  },
  {
   "cell_type": "markdown",
   "metadata": {},
   "source": [
    "#Below is a list of NYC zipcodes scrapped from various sources on the internet:"
   ]
  },
  {
   "cell_type": "code",
   "execution_count": 2,
   "metadata": {},
   "outputs": [],
   "source": [
    "Bronx_zipcodes = [10453, 10457, 10460, 10458, 10467, 10468\n",
    ",10451, 10452, 10456,10454, 10455, 10459, 10474, 10463, 10471\n",
    ",10466, 10469, 10470, 10475, 10461, 10462,10464, 10465, 10472, 10473, 10803 ]"
   ]
  },
  {
   "cell_type": "code",
   "execution_count": 3,
   "metadata": {},
   "outputs": [],
   "source": [
    "Brooklyn_zipcodes = [11212, 11213, 11216, 11233, 11238\n",
    ", 11209, 11214, 11228, 11204, 11218, 11219, 11230,11234, 11236, 11239\n",
    ",11223, 11224, 11229, 11235, 11201, 11205, 11215, 11217, 11231\n",
    ", 11203, 11210, 11225, 11226, 11207, 11208,11211, 11222\n",
    ", 11220, 11232, 11206, 11221, 11237, 11249]"
   ]
  },
  {
   "cell_type": "code",
   "execution_count": 4,
   "metadata": {},
   "outputs": [],
   "source": [
    "Manhattan_zipcodes = [10026, 10027, 10030, 10037, 10039\n",
    ",10001, 10011, 10018, 10019, 10020, 10036\n",
    ",10029, 10035,10010, 10016, 10017, 10022\n",
    ",10012, 10013, 10014,10004, 10005, 10006, 10007, 10038, 10280\n",
    ",10002, 10003, 10009,10021, 10028, 10044, 10065, 10075, 10128\n",
    ",10023, 10024, 10025,10031, 10032, 10033, 10034, 10040, 10282,10278]"
   ]
  },
  {
   "cell_type": "code",
   "execution_count": 5,
   "metadata": {},
   "outputs": [],
   "source": [
    "Queens_zipcodes = [11001, 11351,11354, 11355, 11356, 11357, 11358, 11359, 11360, 11361, 11362, 11363, 11364\n",
    ",11354, 11355, 11356, 11357, 11358, 11359, 11360\n",
    ", 11365, 11366, 11367, 11405, 11412, 11423, 11432, 11433, 11434, 11435, 11436\n",
    ", 11101, 11102, 11103, 11104, 11105, 11106, 11374, 11375, 11379, 11385\n",
    ",11691, 11692, 11693, 11694, 11695, 11697,11004\n",
    ",11005, 11411, 11413, 11422, 11426, 11427, 11428, 11429\n",
    ", 11414, 11415, 11416, 11417, 11418, 11419, 11420, 11421\n",
    ", 11368, 11369, 11370, 11371, 11372, 11373,11374,11375, 11377, 11378,11379,11385, 11405,11001,11439]\n"
   ]
  },
  {
   "cell_type": "code",
   "execution_count": 6,
   "metadata": {},
   "outputs": [],
   "source": [
    "Staten_zipcodes = [10302, 10303, 10310,10306, 10307,10313,  10308, 10309, 10312,10301, 10304, 10305,10311,10314]"
   ]
  },
  {
   "cell_type": "markdown",
   "metadata": {
    "scrolled": true
   },
   "source": [
    "Below we load data from pluto, then proceed to gather all the unique zipcodes found:"
   ]
  },
  {
   "cell_type": "code",
   "execution_count": 7,
   "metadata": {},
   "outputs": [
    {
     "name": "stderr",
     "output_type": "stream",
     "text": [
      "C:\\Users\\jabakoyas\\AppData\\Local\\Continuum\\anaconda3\\lib\\site-packages\\IPython\\core\\interactiveshell.py:3058: DtypeWarning: Columns (17,18,20,22) have mixed types. Specify dtype option on import or set low_memory=False.\n",
      "  interactivity=interactivity, compiler=compiler, result=result)\n"
     ]
    }
   ],
   "source": [
    "pluto = pd.read_csv('pluto_20v1.csv')\n",
    "        "
   ]
  },
  {
   "cell_type": "code",
   "execution_count": 8,
   "metadata": {},
   "outputs": [
    {
     "name": "stdout",
     "output_type": "stream",
     "text": [
      "<class 'pandas.core.frame.DataFrame'>\n",
      "RangeIndex: 859172 entries, 0 to 859171\n",
      "Data columns (total 99 columns):\n",
      "borough                 859171 non-null object\n",
      "block                   859172 non-null int64\n",
      "lot                     859172 non-null int64\n",
      "cd                      858186 non-null float64\n",
      "ct2010                  858186 non-null float64\n",
      "cb2010                  858186 non-null float64\n",
      "schooldist              857481 non-null float64\n",
      "council                 858185 non-null float64\n",
      "zipcode                 857449 non-null float64\n",
      "firecomp                857464 non-null object\n",
      "policeprct              857473 non-null float64\n",
      "healtharea              857474 non-null float64\n",
      "sanitboro               857270 non-null float64\n",
      "sanitsub                857150 non-null object\n",
      "address                 858772 non-null object\n",
      "zonedist1               856974 non-null object\n",
      "zonedist2               19787 non-null object\n",
      "zonedist3               207 non-null object\n",
      "zonedist4               13 non-null object\n",
      "overlay1                74775 non-null object\n",
      "overlay2                167 non-null object\n",
      "spdist1                 101710 non-null object\n",
      "spdist2                 78 non-null object\n",
      "spdist3                 0 non-null float64\n",
      "ltdheight               3036 non-null object\n",
      "splitzone               856974 non-null object\n",
      "bldgclass               858772 non-null object\n",
      "landuse                 856169 non-null float64\n",
      "easements               858772 non-null float64\n",
      "ownertype               31873 non-null object\n",
      "ownername               858307 non-null object\n",
      "lotarea                 858329 non-null float64\n",
      "bldgarea                858742 non-null float64\n",
      "comarea                 810154 non-null float64\n",
      "resarea                 810154 non-null float64\n",
      "officearea              810154 non-null float64\n",
      "retailarea              810154 non-null float64\n",
      "garagearea              810154 non-null float64\n",
      "strgearea               810154 non-null float64\n",
      "factryarea              810154 non-null float64\n",
      "otherarea               810154 non-null float64\n",
      "areasource              858772 non-null float64\n",
      "numbldgs                858329 non-null float64\n",
      "numfloors               858329 non-null float64\n",
      "unitsres                858772 non-null float64\n",
      "unitstotal              858772 non-null float64\n",
      "lotfront                858329 non-null float64\n",
      "lotdepth                858329 non-null float64\n",
      "bldgfront               858329 non-null float64\n",
      "bldgdepth               858329 non-null float64\n",
      "ext                     800632 non-null object\n",
      "proxcode                858772 non-null float64\n",
      "irrlotcode              858772 non-null object\n",
      "lottype                 858772 non-null float64\n",
      "bsmtcode                858772 non-null float64\n",
      "assessland              858772 non-null float64\n",
      "assesstot               858772 non-null float64\n",
      "exempttot               858772 non-null float64\n",
      "yearbuilt               858772 non-null float64\n",
      "yearalter1              858772 non-null float64\n",
      "yearalter2              858772 non-null float64\n",
      "histdist                30892 non-null object\n",
      "landmark                1440 non-null object\n",
      "builtfar                857992 non-null float64\n",
      "residfar                858772 non-null float64\n",
      "commfar                 858772 non-null float64\n",
      "facilfar                858772 non-null float64\n",
      "borocode                859172 non-null int64\n",
      "bbl                     859172 non-null int64\n",
      "condono                 8619 non-null float64\n",
      "tract2010               858186 non-null float64\n",
      "xcoord                  858087 non-null float64\n",
      "ycoord                  858087 non-null float64\n",
      "latitude                858087 non-null float64\n",
      "longitude               858087 non-null float64\n",
      "zonemap                 857041 non-null object\n",
      "zmcode                  15621 non-null object\n",
      "sanborn                 857497 non-null object\n",
      "taxmap                  857497 non-null float64\n",
      "edesignum               0 non-null float64\n",
      "appbbl                  92493 non-null float64\n",
      "appdate                 92493 non-null object\n",
      "plutomapid              859172 non-null int64\n",
      "version                 859172 non-null object\n",
      "sanitdistrict           857270 non-null float64\n",
      "healthcenterdistrict    857474 non-null float64\n",
      "firm07_flag             34715 non-null float64\n",
      "pfirm15_flag            65755 non-null float64\n",
      "rpaddate                0 non-null float64\n",
      "dcasdate                0 non-null float64\n",
      "zoningdate              0 non-null float64\n",
      "landmkdate              0 non-null float64\n",
      "basempdate              0 non-null float64\n",
      "masdate                 0 non-null float64\n",
      "polidate                0 non-null float64\n",
      "edesigdate              0 non-null float64\n",
      "geom                    857441 non-null object\n",
      "dcpedited               39773 non-null object\n",
      "notes                   562 non-null float64\n",
      "dtypes: float64(66), int64(5), object(28)\n",
      "memory usage: 648.9+ MB\n"
     ]
    }
   ],
   "source": [
    "pluto.info()"
   ]
  },
  {
   "cell_type": "code",
   "execution_count": 9,
   "metadata": {},
   "outputs": [],
   "source": [
    "#We create a zipcode_dataset by subsetting only the borough and zipcode data from pluto\n",
    "zipcode_dataset = pluto[['borough', 'zipcode']]"
   ]
  },
  {
   "cell_type": "code",
   "execution_count": 10,
   "metadata": {},
   "outputs": [],
   "source": [
    "#We remove rows with any missing values\n",
    "zipcode_dataset = zipcode_dataset[np.logical_not(np.isnan(zipcode_dataset['zipcode']))]"
   ]
  },
  {
   "cell_type": "code",
   "execution_count": 11,
   "metadata": {},
   "outputs": [
    {
     "data": {
      "text/html": [
       "<div>\n",
       "<style scoped>\n",
       "    .dataframe tbody tr th:only-of-type {\n",
       "        vertical-align: middle;\n",
       "    }\n",
       "\n",
       "    .dataframe tbody tr th {\n",
       "        vertical-align: top;\n",
       "    }\n",
       "\n",
       "    .dataframe thead th {\n",
       "        text-align: right;\n",
       "    }\n",
       "</style>\n",
       "<table border=\"1\" class=\"dataframe\">\n",
       "  <thead>\n",
       "    <tr style=\"text-align: right;\">\n",
       "      <th></th>\n",
       "      <th>borough</th>\n",
       "      <th>zipcode</th>\n",
       "    </tr>\n",
       "  </thead>\n",
       "  <tbody>\n",
       "    <tr>\n",
       "      <td>0</td>\n",
       "      <td>BK</td>\n",
       "      <td>11220.0</td>\n",
       "    </tr>\n",
       "    <tr>\n",
       "      <td>1</td>\n",
       "      <td>QN</td>\n",
       "      <td>11356.0</td>\n",
       "    </tr>\n",
       "    <tr>\n",
       "      <td>2</td>\n",
       "      <td>BK</td>\n",
       "      <td>11203.0</td>\n",
       "    </tr>\n",
       "    <tr>\n",
       "      <td>3</td>\n",
       "      <td>BK</td>\n",
       "      <td>11234.0</td>\n",
       "    </tr>\n",
       "    <tr>\n",
       "      <td>8</td>\n",
       "      <td>BK</td>\n",
       "      <td>11235.0</td>\n",
       "    </tr>\n",
       "    <tr>\n",
       "      <td>...</td>\n",
       "      <td>...</td>\n",
       "      <td>...</td>\n",
       "    </tr>\n",
       "    <tr>\n",
       "      <td>769066</td>\n",
       "      <td>MN</td>\n",
       "      <td>10045.0</td>\n",
       "    </tr>\n",
       "    <tr>\n",
       "      <td>785175</td>\n",
       "      <td>QN</td>\n",
       "      <td>11451.0</td>\n",
       "    </tr>\n",
       "    <tr>\n",
       "      <td>803135</td>\n",
       "      <td>MN</td>\n",
       "      <td>10176.0</td>\n",
       "    </tr>\n",
       "    <tr>\n",
       "      <td>826286</td>\n",
       "      <td>MN</td>\n",
       "      <td>10151.0</td>\n",
       "    </tr>\n",
       "    <tr>\n",
       "      <td>827569</td>\n",
       "      <td>MN</td>\n",
       "      <td>10169.0</td>\n",
       "    </tr>\n",
       "  </tbody>\n",
       "</table>\n",
       "<p>215 rows × 2 columns</p>\n",
       "</div>"
      ],
      "text/plain": [
       "       borough  zipcode\n",
       "0           BK  11220.0\n",
       "1           QN  11356.0\n",
       "2           BK  11203.0\n",
       "3           BK  11234.0\n",
       "8           BK  11235.0\n",
       "...        ...      ...\n",
       "769066      MN  10045.0\n",
       "785175      QN  11451.0\n",
       "803135      MN  10176.0\n",
       "826286      MN  10151.0\n",
       "827569      MN  10169.0\n",
       "\n",
       "[215 rows x 2 columns]"
      ]
     },
     "execution_count": 11,
     "metadata": {},
     "output_type": "execute_result"
    }
   ],
   "source": [
    "#Next we select all the unique zipcodes\n",
    "zipcode_dataset = zipcode_dataset.drop_duplicates(subset='zipcode', keep= 'first')\n",
    "zipcode_dataset"
   ]
  },
  {
   "cell_type": "markdown",
   "metadata": {},
   "source": [
    "Above we see that we have 215 unique zipcodes from Pluto"
   ]
  },
  {
   "cell_type": "code",
   "execution_count": 12,
   "metadata": {},
   "outputs": [],
   "source": [
    "#Next we reset the index for better presentation\n",
    "zipcode_dataset.reset_index(inplace=True, drop=True)"
   ]
  },
  {
   "cell_type": "code",
   "execution_count": 13,
   "metadata": {},
   "outputs": [],
   "source": [
    "#And we change the zipcodes to integers by removing the decimal points (and also the zero after the decimal)\n",
    "zipcode_dataset['zipcode'] = zipcode_dataset['zipcode'].astype(int)"
   ]
  },
  {
   "cell_type": "code",
   "execution_count": 14,
   "metadata": {},
   "outputs": [
    {
     "data": {
      "text/html": [
       "<div>\n",
       "<style scoped>\n",
       "    .dataframe tbody tr th:only-of-type {\n",
       "        vertical-align: middle;\n",
       "    }\n",
       "\n",
       "    .dataframe tbody tr th {\n",
       "        vertical-align: top;\n",
       "    }\n",
       "\n",
       "    .dataframe thead th {\n",
       "        text-align: right;\n",
       "    }\n",
       "</style>\n",
       "<table border=\"1\" class=\"dataframe\">\n",
       "  <thead>\n",
       "    <tr style=\"text-align: right;\">\n",
       "      <th></th>\n",
       "      <th>borough</th>\n",
       "      <th>zipcode</th>\n",
       "    </tr>\n",
       "  </thead>\n",
       "  <tbody>\n",
       "    <tr>\n",
       "      <td>0</td>\n",
       "      <td>BK</td>\n",
       "      <td>11220</td>\n",
       "    </tr>\n",
       "    <tr>\n",
       "      <td>56</td>\n",
       "      <td>BK</td>\n",
       "      <td>11225</td>\n",
       "    </tr>\n",
       "    <tr>\n",
       "      <td>28</td>\n",
       "      <td>BK</td>\n",
       "      <td>11236</td>\n",
       "    </tr>\n",
       "    <tr>\n",
       "      <td>90</td>\n",
       "      <td>BK</td>\n",
       "      <td>11206</td>\n",
       "    </tr>\n",
       "    <tr>\n",
       "      <td>31</td>\n",
       "      <td>BK</td>\n",
       "      <td>11213</td>\n",
       "    </tr>\n",
       "    <tr>\n",
       "      <td>...</td>\n",
       "      <td>...</td>\n",
       "      <td>...</td>\n",
       "    </tr>\n",
       "    <tr>\n",
       "      <td>126</td>\n",
       "      <td>SI</td>\n",
       "      <td>10308</td>\n",
       "    </tr>\n",
       "    <tr>\n",
       "      <td>12</td>\n",
       "      <td>SI</td>\n",
       "      <td>10304</td>\n",
       "    </tr>\n",
       "    <tr>\n",
       "      <td>53</td>\n",
       "      <td>SI</td>\n",
       "      <td>10306</td>\n",
       "    </tr>\n",
       "    <tr>\n",
       "      <td>68</td>\n",
       "      <td>SI</td>\n",
       "      <td>10301</td>\n",
       "    </tr>\n",
       "    <tr>\n",
       "      <td>54</td>\n",
       "      <td>SI</td>\n",
       "      <td>10309</td>\n",
       "    </tr>\n",
       "  </tbody>\n",
       "</table>\n",
       "<p>215 rows × 2 columns</p>\n",
       "</div>"
      ],
      "text/plain": [
       "    borough  zipcode\n",
       "0        BK    11220\n",
       "56       BK    11225\n",
       "28       BK    11236\n",
       "90       BK    11206\n",
       "31       BK    11213\n",
       "..      ...      ...\n",
       "126      SI    10308\n",
       "12       SI    10304\n",
       "53       SI    10306\n",
       "68       SI    10301\n",
       "54       SI    10309\n",
       "\n",
       "[215 rows x 2 columns]"
      ]
     },
     "execution_count": 14,
     "metadata": {},
     "output_type": "execute_result"
    }
   ],
   "source": [
    "#And here we sort the rows by the borough\n",
    "zipcode_dataset = zipcode_dataset.sort_values(by=['borough'])\n",
    "zipcode_dataset"
   ]
  },
  {
   "cell_type": "markdown",
   "metadata": {},
   "source": [
    "Next, we see if there are any zipcodes from the internet gathered zipcodes that are not in Pluto"
   ]
  },
  {
   "cell_type": "code",
   "execution_count": 15,
   "metadata": {},
   "outputs": [],
   "source": [
    "my_zips = Bronx_zipcodes+Brooklyn_zipcodes+Manhattan_zipcodes+Staten_zipcodes+Queens_zipcodes"
   ]
  },
  {
   "cell_type": "code",
   "execution_count": 16,
   "metadata": {},
   "outputs": [
    {
     "data": {
      "text/plain": [
       "202"
      ]
     },
     "execution_count": 16,
     "metadata": {},
     "output_type": "execute_result"
    }
   ],
   "source": [
    "#The list of zipcodes from the internet is slightly shorter than the Pluto list.\n",
    "len(my_zips)"
   ]
  },
  {
   "cell_type": "code",
   "execution_count": 17,
   "metadata": {},
   "outputs": [],
   "source": [
    "#We convert the zipcodes into sets so that we can do set comparisons in the next line (faster for computation than loops)\n",
    "pluto_zips = set(zipcode_dataset.zipcode)\n",
    "my_zips = set(my_zips)"
   ]
  },
  {
   "cell_type": "code",
   "execution_count": 18,
   "metadata": {},
   "outputs": [
    {
     "data": {
      "text/plain": [
       "{10045,\n",
       " 10055,\n",
       " 10069,\n",
       " 10103,\n",
       " 10105,\n",
       " 10106,\n",
       " 10110,\n",
       " 10118,\n",
       " 10119,\n",
       " 10120,\n",
       " 10121,\n",
       " 10122,\n",
       " 10123,\n",
       " 10151,\n",
       " 10152,\n",
       " 10155,\n",
       " 10158,\n",
       " 10165,\n",
       " 10169,\n",
       " 10170,\n",
       " 10175,\n",
       " 10176,\n",
       " 10271,\n",
       " 10281,\n",
       " 11040,\n",
       " 11096,\n",
       " 11109,\n",
       " 11241,\n",
       " 11251,\n",
       " 11430,\n",
       " 11451,\n",
       " 12345}"
      ]
     },
     "execution_count": 18,
     "metadata": {},
     "output_type": "execute_result"
    }
   ],
   "source": [
    "#We look at the set difference of pluto zips not found in the internet list\n",
    "pluto_zips.difference(my_zips)"
   ]
  },
  {
   "cell_type": "code",
   "execution_count": 19,
   "metadata": {},
   "outputs": [
    {
     "data": {
      "text/plain": [
       "{10311, 10313, 10803, 11351, 11405, 11439}"
      ]
     },
     "execution_count": 19,
     "metadata": {},
     "output_type": "execute_result"
    }
   ],
   "source": [
    "#And here we do the opposite to look at zipcodes found from internet not in the Pluto list\n",
    "zips = my_zips.difference(pluto_zips)\n",
    "zips"
   ]
  },
  {
   "cell_type": "code",
   "execution_count": 20,
   "metadata": {},
   "outputs": [
    {
     "data": {
      "text/plain": [
       "[('SI', 10311),\n",
       " ('SI', 10313),\n",
       " ('QN', 11405),\n",
       " ('QN', 11439),\n",
       " ('BX', 10803),\n",
       " ('QN', 11351)]"
      ]
     },
     "execution_count": 20,
     "metadata": {},
     "output_type": "execute_result"
    }
   ],
   "source": [
    "#Here we just create a borough, zipcode pair for the above 6 zipcodes in order to organize them and add them into the Pluto zipcodes\n",
    "zips = my_zips.difference(pluto_zips)\n",
    "string = ['BX', 'BK', 'MN', 'SI', 'QN']\n",
    "boroughs = [Bronx_zipcodes, Brooklyn_zipcodes, Manhattan_zipcodes, Staten_zipcodes, Queens_zipcodes]\n",
    "lists = []\n",
    "for x in zips:\n",
    "    for i, y in enumerate(boroughs):\n",
    "        if x in y:\n",
    "            lists.append((string[i], x))\n",
    "lists\n"
   ]
  },
  {
   "cell_type": "code",
   "execution_count": 21,
   "metadata": {},
   "outputs": [
    {
     "data": {
      "text/html": [
       "<div>\n",
       "<style scoped>\n",
       "    .dataframe tbody tr th:only-of-type {\n",
       "        vertical-align: middle;\n",
       "    }\n",
       "\n",
       "    .dataframe tbody tr th {\n",
       "        vertical-align: top;\n",
       "    }\n",
       "\n",
       "    .dataframe thead th {\n",
       "        text-align: right;\n",
       "    }\n",
       "</style>\n",
       "<table border=\"1\" class=\"dataframe\">\n",
       "  <thead>\n",
       "    <tr style=\"text-align: right;\">\n",
       "      <th></th>\n",
       "      <th>borough</th>\n",
       "      <th>zipcode</th>\n",
       "    </tr>\n",
       "  </thead>\n",
       "  <tbody>\n",
       "    <tr>\n",
       "      <td>0</td>\n",
       "      <td>SI</td>\n",
       "      <td>10311</td>\n",
       "    </tr>\n",
       "    <tr>\n",
       "      <td>1</td>\n",
       "      <td>SI</td>\n",
       "      <td>10313</td>\n",
       "    </tr>\n",
       "    <tr>\n",
       "      <td>2</td>\n",
       "      <td>QN</td>\n",
       "      <td>11405</td>\n",
       "    </tr>\n",
       "    <tr>\n",
       "      <td>3</td>\n",
       "      <td>QN</td>\n",
       "      <td>11439</td>\n",
       "    </tr>\n",
       "    <tr>\n",
       "      <td>4</td>\n",
       "      <td>BX</td>\n",
       "      <td>10803</td>\n",
       "    </tr>\n",
       "    <tr>\n",
       "      <td>5</td>\n",
       "      <td>QN</td>\n",
       "      <td>11351</td>\n",
       "    </tr>\n",
       "  </tbody>\n",
       "</table>\n",
       "</div>"
      ],
      "text/plain": [
       "  borough  zipcode\n",
       "0      SI    10311\n",
       "1      SI    10313\n",
       "2      QN    11405\n",
       "3      QN    11439\n",
       "4      BX    10803\n",
       "5      QN    11351"
      ]
     },
     "execution_count": 21,
     "metadata": {},
     "output_type": "execute_result"
    }
   ],
   "source": [
    "#Here we convert the above short list into a dataframe\n",
    "short_list = pd.DataFrame(lists, columns=['borough', 'zipcode'])\n",
    "short_list"
   ]
  },
  {
   "cell_type": "code",
   "execution_count": 22,
   "metadata": {},
   "outputs": [],
   "source": [
    "#And here we merge the two dataframes togther.\n",
    "zipcode_dataset = pd.concat([zipcode_dataset, short_list])\n",
    "zipcode_dataset = zipcode_dataset.sort_values(by=['borough'])"
   ]
  },
  {
   "cell_type": "code",
   "execution_count": 23,
   "metadata": {},
   "outputs": [
    {
     "data": {
      "text/html": [
       "<div>\n",
       "<style scoped>\n",
       "    .dataframe tbody tr th:only-of-type {\n",
       "        vertical-align: middle;\n",
       "    }\n",
       "\n",
       "    .dataframe tbody tr th {\n",
       "        vertical-align: top;\n",
       "    }\n",
       "\n",
       "    .dataframe thead th {\n",
       "        text-align: right;\n",
       "    }\n",
       "</style>\n",
       "<table border=\"1\" class=\"dataframe\">\n",
       "  <thead>\n",
       "    <tr style=\"text-align: right;\">\n",
       "      <th></th>\n",
       "      <th>borough</th>\n",
       "      <th>zipcode</th>\n",
       "    </tr>\n",
       "  </thead>\n",
       "  <tbody>\n",
       "    <tr>\n",
       "      <td>0</td>\n",
       "      <td>BK</td>\n",
       "      <td>11220</td>\n",
       "    </tr>\n",
       "    <tr>\n",
       "      <td>1</td>\n",
       "      <td>BK</td>\n",
       "      <td>11233</td>\n",
       "    </tr>\n",
       "    <tr>\n",
       "      <td>2</td>\n",
       "      <td>BK</td>\n",
       "      <td>11212</td>\n",
       "    </tr>\n",
       "    <tr>\n",
       "      <td>3</td>\n",
       "      <td>BK</td>\n",
       "      <td>11215</td>\n",
       "    </tr>\n",
       "    <tr>\n",
       "      <td>4</td>\n",
       "      <td>BK</td>\n",
       "      <td>11211</td>\n",
       "    </tr>\n",
       "    <tr>\n",
       "      <td>...</td>\n",
       "      <td>...</td>\n",
       "      <td>...</td>\n",
       "    </tr>\n",
       "    <tr>\n",
       "      <td>216</td>\n",
       "      <td>SI</td>\n",
       "      <td>10305</td>\n",
       "    </tr>\n",
       "    <tr>\n",
       "      <td>217</td>\n",
       "      <td>SI</td>\n",
       "      <td>10310</td>\n",
       "    </tr>\n",
       "    <tr>\n",
       "      <td>218</td>\n",
       "      <td>SI</td>\n",
       "      <td>10302</td>\n",
       "    </tr>\n",
       "    <tr>\n",
       "      <td>219</td>\n",
       "      <td>SI</td>\n",
       "      <td>10304</td>\n",
       "    </tr>\n",
       "    <tr>\n",
       "      <td>220</td>\n",
       "      <td>SI</td>\n",
       "      <td>10314</td>\n",
       "    </tr>\n",
       "  </tbody>\n",
       "</table>\n",
       "<p>221 rows × 2 columns</p>\n",
       "</div>"
      ],
      "text/plain": [
       "    borough  zipcode\n",
       "0        BK    11220\n",
       "1        BK    11233\n",
       "2        BK    11212\n",
       "3        BK    11215\n",
       "4        BK    11211\n",
       "..      ...      ...\n",
       "216      SI    10305\n",
       "217      SI    10310\n",
       "218      SI    10302\n",
       "219      SI    10304\n",
       "220      SI    10314\n",
       "\n",
       "[221 rows x 2 columns]"
      ]
     },
     "execution_count": 23,
     "metadata": {},
     "output_type": "execute_result"
    }
   ],
   "source": [
    "#We reset the index once more for better presentation\n",
    "zipcode_dataset.reset_index(inplace=True, drop=True)\n",
    "zipcode_dataset"
   ]
  },
  {
   "cell_type": "code",
   "execution_count": 24,
   "metadata": {},
   "outputs": [],
   "source": [
    "#Finally, we store the new zipcode dataset into a csv file\n",
    "zipcode_dataset.to_csv(r'C:\\Users\\jabakoyas\\Downloads\\zipcodes_nyc_complete.csv')\n"
   ]
  }
 ],
 "metadata": {
  "kernelspec": {
   "display_name": "Python 3",
   "language": "python",
   "name": "python3"
  },
  "language_info": {
   "codemirror_mode": {
    "name": "ipython",
    "version": 3
   },
   "file_extension": ".py",
   "mimetype": "text/x-python",
   "name": "python",
   "nbconvert_exporter": "python",
   "pygments_lexer": "ipython3",
   "version": "3.7.4"
  }
 },
 "nbformat": 4,
 "nbformat_minor": 2
}
